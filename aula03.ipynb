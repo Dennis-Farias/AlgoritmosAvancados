{
 "cells": [
  {
   "cell_type": "code",
   "execution_count": 5,
   "metadata": {},
   "outputs": [],
   "source": [
    "import numpy as np\n",
    "class FilaCircular:\n",
    "    def __init__ (self, capacidade):\n",
    "        self.capacidade = capacidade\n",
    "        self.inicio = 0\n",
    "        self.final = -1\n",
    "        self.numeros_elementos = 0\n",
    "        self.valores = np.empty(self.capacidade, dtype = int)\n",
    "\n",
    "    def __fila_vazia(self):\n",
    "        return self.numeros_elementos == 0\n",
    "    \n",
    "    def __fila_cheia(self):\n",
    "        return self.numeros_elementos == self.capacidade\n",
    "    \n",
    "    def enfileirar(self, valor):\n",
    "        if self.__fila_cheia():\n",
    "            print ('A fila está cheia!!!')\n",
    "            return\n",
    "        \n",
    "        if self.final == self.capacidade - 1:\n",
    "            self.final = -1\n",
    "\n",
    "        self.final += 1\n",
    "        self.valores[self.final] = valor\n",
    "        self.numeros_elementos += 1\n",
    "    \n",
    "    def desenfileirar(self):\n",
    "        if self.__fila_vazia():\n",
    "            print('A fila já está vazia...!!!!')\n",
    "            return\n",
    "        \n",
    "        temp = self.valores[self.inicio]\n",
    "        self.inicio += 1\n",
    "        if self.inicio == self.capacidade:\n",
    "            self.inicio = 0\n",
    "        self.numeros_elementos -= 1\n",
    "\n",
    "    def primeiro(self):\n",
    "        if self.__fila_vazia():\n",
    "            return -1\n",
    "        return self.valores[self.inicio]"
   ]
  },
  {
   "cell_type": "code",
   "execution_count": 6,
   "metadata": {},
   "outputs": [],
   "source": [
    "fila = FilaCircular(5)"
   ]
  },
  {
   "cell_type": "code",
   "execution_count": 38,
   "metadata": {},
   "outputs": [],
   "source": [
    "fila.enfileirar(1)"
   ]
  },
  {
   "cell_type": "code",
   "execution_count": 39,
   "metadata": {},
   "outputs": [],
   "source": [
    "fila.enfileirar(2)"
   ]
  },
  {
   "cell_type": "code",
   "execution_count": 40,
   "metadata": {},
   "outputs": [],
   "source": [
    "fila.enfileirar(3)"
   ]
  },
  {
   "cell_type": "code",
   "execution_count": 41,
   "metadata": {},
   "outputs": [],
   "source": [
    "fila.enfileirar(4)"
   ]
  },
  {
   "cell_type": "code",
   "execution_count": 42,
   "metadata": {},
   "outputs": [],
   "source": [
    "fila.enfileirar(5)"
   ]
  },
  {
   "cell_type": "code",
   "execution_count": 43,
   "metadata": {},
   "outputs": [
    {
     "name": "stdout",
     "output_type": "stream",
     "text": [
      "A fila está cheia!!!\n"
     ]
    }
   ],
   "source": [
    "fila.enfileirar(6)"
   ]
  },
  {
   "cell_type": "code",
   "execution_count": 49,
   "metadata": {},
   "outputs": [
    {
     "data": {
      "text/plain": [
       "3"
      ]
     },
     "execution_count": 49,
     "metadata": {},
     "output_type": "execute_result"
    }
   ],
   "source": [
    "fila.primeiro()"
   ]
  },
  {
   "cell_type": "code",
   "execution_count": 47,
   "metadata": {},
   "outputs": [],
   "source": [
    "fila.desenfileirar()"
   ]
  },
  {
   "cell_type": "code",
   "execution_count": 51,
   "metadata": {},
   "outputs": [
    {
     "data": {
      "text/plain": [
       "array([1, 2, 3, 4, 5])"
      ]
     },
     "execution_count": 51,
     "metadata": {},
     "output_type": "execute_result"
    }
   ],
   "source": [
    "fila.valores"
   ]
  }
 ],
 "metadata": {
  "kernelspec": {
   "display_name": "Python 3",
   "language": "python",
   "name": "python3"
  },
  "language_info": {
   "codemirror_mode": {
    "name": "ipython",
    "version": 3
   },
   "file_extension": ".py",
   "mimetype": "text/x-python",
   "name": "python",
   "nbconvert_exporter": "python",
   "pygments_lexer": "ipython3",
   "version": "3.10.4"
  },
  "orig_nbformat": 4
 },
 "nbformat": 4,
 "nbformat_minor": 2
}
